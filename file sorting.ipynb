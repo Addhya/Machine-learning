{
 "cells": [
  {
   "cell_type": "code",
   "execution_count": 1,
   "id": "301fe834",
   "metadata": {},
   "outputs": [],
   "source": [
    "import os\n",
    "import shutil\n",
    "from IPython.core.display import clear_output as c_o"
   ]
  },
  {
   "cell_type": "code",
   "execution_count": 2,
   "id": "713b5ba1",
   "metadata": {},
   "outputs": [],
   "source": [
    "extensions = {}\n",
    "count = 0\n",
    "errors = []"
   ]
  },
  {
   "cell_type": "code",
   "execution_count": 5,
   "id": "9fe1541b",
   "metadata": {},
   "outputs": [
    {
     "name": "stdout",
     "output_type": "stream",
     "text": [
      "20187 / 10093  : E:/papa/laptop data/papa/New folder/papa/dextop particulars/new cpu dextop files/Instruments 09-05-2014/Instrument/other details/uv, co2/uv/UV VISIBLE.docx\n"
     ]
    }
   ],
   "source": [
    "count = 0\n",
    "queue = [\"E:/papa\"]\n",
    "doc = [\"DOC\", 'doc','docx','dotx', 'rtf']\n",
    "pdf = ['PDF','pdf']\n",
    "xcel = ['xls','xlsm','xlsx','xml']\n",
    "media = [\"AVI\", \"BUP\",'JPG','MOV','PNG','bmp','RMB PHOTO',\n",
    "         'gif','inf','ini','jnt','jpeg','jpg','TIF','VOB',\n",
    "         'skf','svg','tga','tif']\n",
    "while queue:\n",
    "    currpath = queue.pop(0)\n",
    "#     print(currpath)\n",
    "    data = os.listdir(currpath)\n",
    "    for i in data:\n",
    "        if os.path.isdir(currpath+'/'+i):\n",
    "            queue.append(currpath+'/'+i)\n",
    "        else:\n",
    "            c_o(wait=True)\n",
    "            count += 1\n",
    "            print(str(count).rjust(5,\" \"), '/', 10093, \" :\", currpath+'/'+i)\n",
    "            extn =  i.split(\".\")[-1]\n",
    "            if extn in media:\n",
    "                shutil.copyfile(currpath+'/'+i, \"E:/media\"+i)\n",
    "#             extensions[i.split(\".\")[-1]] = 1\n",
    "#             count -= 1\n",
    "#             errors.append(currpath+'/'+i)"
   ]
  },
  {
   "cell_type": "code",
   "execution_count": null,
   "id": "250e026a",
   "metadata": {},
   "outputs": [],
   "source": [
    "media = [\"AVI\", \"BUP\",'JPG','MOV','PNG','bmp','RMB PHOTO',\n",
    "         'gif','inf','ini','jnt','jpeg','jpg','TIF','VOB',\n",
    "         'skf','svg','tga','tif']\n",
    "# doc = [\"DOC\", 'doc','docx','dotx', 'rtf']\n",
    "# pdf = ['PDF','pdf']\n",
    "# xcel = ['xls','xlsm','xlsx','xml']"
   ]
  },
  {
   "cell_type": "code",
   "execution_count": null,
   "id": "92b1bd60",
   "metadata": {},
   "outputs": [],
   "source": []
  }
 ],
 "metadata": {
  "kernelspec": {
   "display_name": "Python 3",
   "language": "python",
   "name": "python3"
  },
  "language_info": {
   "codemirror_mode": {
    "name": "ipython",
    "version": 3
   },
   "file_extension": ".py",
   "mimetype": "text/x-python",
   "name": "python",
   "nbconvert_exporter": "python",
   "pygments_lexer": "ipython3",
   "version": "3.8.10"
  }
 },
 "nbformat": 4,
 "nbformat_minor": 5
}
